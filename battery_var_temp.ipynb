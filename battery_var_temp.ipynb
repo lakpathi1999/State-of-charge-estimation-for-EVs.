{
 "cells": [
  {
   "cell_type": "markdown",
   "metadata": {},
   "source": [
    "## Imports\n",
    "** Import pandas, numpy, matplotlib,and seaborn. Then set %matplotlib inline \n",
    "(You'll import sklearn as you need it.)**"
   ]
  },
  {
   "cell_type": "code",
   "execution_count": 1,
   "metadata": {},
   "outputs": [],
   "source": [
    "import pandas as pd\n",
    "import numpy as np\n",
    "import matplotlib.pyplot as plt\n",
    "import seaborn as sns\n",
    "%matplotlib inline"
   ]
  },
  {
   "cell_type": "code",
   "execution_count": 2,
   "metadata": {},
   "outputs": [],
   "source": [
    "import os"
   ]
  },
  {
   "cell_type": "code",
   "execution_count": 5,
   "metadata": {},
   "outputs": [
    {
     "data": {
      "text/plain": [
       "['DST-US06-FUDS-0',\n",
       " 'DST-US06-FUDS-10',\n",
       " 'DST-US06-FUDS-20',\n",
       " 'DST-US06-FUDS-25',\n",
       " 'DST-US06-FUDS-30',\n",
       " 'DST-US06-FUDS-40',\n",
       " 'DST-US06-FUDS-50',\n",
       " 'DST-US06-FUDS-N10']"
      ]
     },
     "execution_count": 5,
     "metadata": {},
     "output_type": "execute_result"
    }
   ],
   "source": [
    "L1=os.listdir()[8:-2]\n",
    "L1"
   ]
  },
  {
   "cell_type": "code",
   "execution_count": 7,
   "metadata": {},
   "outputs": [
    {
     "data": {
      "text/plain": [
       "['A1-007-DST-US06-FUDS-0-20120813.xlsx',\n",
       " 'A1-008-DST-US06-FUDS-0-20120813.xlsx',\n",
       " '~$A1-007-DST-US06-FUDS-0-20120813.xlsx']"
      ]
     },
     "execution_count": 7,
     "metadata": {},
     "output_type": "execute_result"
    }
   ],
   "source": [
    "os.listdir('DST-US06-FUDS-0/')"
   ]
  },
  {
   "cell_type": "code",
   "execution_count": 9,
   "metadata": {},
   "outputs": [
    {
     "name": "stdout",
     "output_type": "stream",
     "text": [
      "0 completed\n",
      "10 completed\n",
      "20 completed\n",
      "25 completed\n",
      "30 completed\n",
      "40 completed\n",
      "50 completed\n",
      "-10 completed\n"
     ]
    }
   ],
   "source": [
    "dataframes=[]\n",
    "temperatures=[0,10,20,25,30,40,50,-10]\n",
    "for i in range(8):\n",
    "    temp=os.listdir(L1[i])\n",
    "    path1=L1[i]+'/'+temp[0]\n",
    "    path2=L1[i]+'/'+temp[1]\n",
    "    df1=pd.read_excel(path1,sheet_name='Channel_1-006')\n",
    "    df2=pd.read_excel(path2,sheet_name='Channel_1-005')\n",
    "    df3=pd.concat([df1, df2], ignore_index=True)\n",
    "    df3['temperature']=temperatures[i]\n",
    "    dataframes.append(df3)\n",
    "    print(temperatures[i], 'completed')"
   ]
  },
  {
   "cell_type": "code",
   "execution_count": 10,
   "metadata": {},
   "outputs": [],
   "source": [
    "df=pd.concat([dataframes[0],dataframes[1],dataframes[2],dataframes[3],dataframes[4],dataframes[5],dataframes[6],dataframes[7]], ignore_index=True)"
   ]
  },
  {
   "cell_type": "code",
   "execution_count": null,
   "metadata": {},
   "outputs": [],
   "source": []
  },
  {
   "cell_type": "code",
   "execution_count": 11,
   "metadata": {},
   "outputs": [
    {
     "data": {
      "text/plain": [
       "Index(['Data_Point', 'Test_Time(s)', 'Date_Time', 'Step_Time(s)', 'Step_Index',\n",
       "       'Cycle_Index', 'Current(A)', 'Voltage(V)', 'Charge_Capacity(Ah)',\n",
       "       'Discharge_Capacity(Ah)', 'Charge_Energy(Wh)', 'Discharge_Energy(Wh)',\n",
       "       'dV/dt(V/s)', 'Internal_Resistance(Ohm)', 'Is_FC_Data',\n",
       "       'AC_Impedance(Ohm)', 'ACI_Phase_Angle(Deg)', 'Temperature (C)_1',\n",
       "       'temperature'],\n",
       "      dtype='object')"
      ]
     },
     "execution_count": 11,
     "metadata": {},
     "output_type": "execute_result"
    }
   ],
   "source": [
    "df.columns"
   ]
  },
  {
   "cell_type": "code",
   "execution_count": 12,
   "metadata": {},
   "outputs": [],
   "source": [
    "X=df[['Test_Time(s)','Internal_Resistance(Ohm)','Current(A)','Voltage(V)','dV/dt(V/s)','temperature']]\n",
    "y=df[['Charge_Capacity(Ah)','Discharge_Capacity(Ah)']]"
   ]
  },
  {
   "cell_type": "code",
   "execution_count": null,
   "metadata": {},
   "outputs": [],
   "source": [
    "sns.pairplot(X)"
   ]
  },
  {
   "cell_type": "code",
   "execution_count": 25,
   "metadata": {},
   "outputs": [
    {
     "data": {
      "text/html": [
       "<div>\n",
       "<style scoped>\n",
       "    .dataframe tbody tr th:only-of-type {\n",
       "        vertical-align: middle;\n",
       "    }\n",
       "\n",
       "    .dataframe tbody tr th {\n",
       "        vertical-align: top;\n",
       "    }\n",
       "\n",
       "    .dataframe thead th {\n",
       "        text-align: right;\n",
       "    }\n",
       "</style>\n",
       "<table border=\"1\" class=\"dataframe\">\n",
       "  <thead>\n",
       "    <tr style=\"text-align: right;\">\n",
       "      <th></th>\n",
       "      <th>Data_Point</th>\n",
       "      <th>Test_Time(s)</th>\n",
       "      <th>Step_Time(s)</th>\n",
       "      <th>Step_Index</th>\n",
       "      <th>Cycle_Index</th>\n",
       "      <th>Current(A)</th>\n",
       "      <th>Voltage(V)</th>\n",
       "      <th>Charge_Capacity(Ah)</th>\n",
       "      <th>Discharge_Capacity(Ah)</th>\n",
       "      <th>Charge_Energy(Wh)</th>\n",
       "      <th>Discharge_Energy(Wh)</th>\n",
       "      <th>dV/dt(V/s)</th>\n",
       "      <th>Internal_Resistance(Ohm)</th>\n",
       "      <th>Is_FC_Data</th>\n",
       "      <th>AC_Impedance(Ohm)</th>\n",
       "      <th>ACI_Phase_Angle(Deg)</th>\n",
       "      <th>Temperature (C)_1</th>\n",
       "    </tr>\n",
       "  </thead>\n",
       "  <tbody>\n",
       "    <tr>\n",
       "      <th>count</th>\n",
       "      <td>25342.000000</td>\n",
       "      <td>25342.000000</td>\n",
       "      <td>2.534200e+04</td>\n",
       "      <td>25342.000000</td>\n",
       "      <td>25342.0</td>\n",
       "      <td>25342.000000</td>\n",
       "      <td>25342.000000</td>\n",
       "      <td>25342.000000</td>\n",
       "      <td>25342.000000</td>\n",
       "      <td>25342.000000</td>\n",
       "      <td>25342.000000</td>\n",
       "      <td>25342.000000</td>\n",
       "      <td>25342.000000</td>\n",
       "      <td>25342.0</td>\n",
       "      <td>25342.0</td>\n",
       "      <td>25342.0</td>\n",
       "      <td>25342.000000</td>\n",
       "    </tr>\n",
       "    <tr>\n",
       "      <th>mean</th>\n",
       "      <td>12671.500000</td>\n",
       "      <td>19792.018992</td>\n",
       "      <td>4.487835e+02</td>\n",
       "      <td>15.637361</td>\n",
       "      <td>1.0</td>\n",
       "      <td>-0.365870</td>\n",
       "      <td>3.194413</td>\n",
       "      <td>2.377684</td>\n",
       "      <td>1.835368</td>\n",
       "      <td>8.428493</td>\n",
       "      <td>5.377812</td>\n",
       "      <td>-0.000077</td>\n",
       "      <td>0.136752</td>\n",
       "      <td>0.0</td>\n",
       "      <td>0.0</td>\n",
       "      <td>0.0</td>\n",
       "      <td>51.895414</td>\n",
       "    </tr>\n",
       "    <tr>\n",
       "      <th>std</th>\n",
       "      <td>7315.749597</td>\n",
       "      <td>10344.669421</td>\n",
       "      <td>4.253477e+02</td>\n",
       "      <td>6.714514</td>\n",
       "      <td>0.0</td>\n",
       "      <td>0.942702</td>\n",
       "      <td>0.248860</td>\n",
       "      <td>1.051746</td>\n",
       "      <td>1.108242</td>\n",
       "      <td>3.729495</td>\n",
       "      <td>3.239910</td>\n",
       "      <td>0.029755</td>\n",
       "      <td>0.031450</td>\n",
       "      <td>0.0</td>\n",
       "      <td>0.0</td>\n",
       "      <td>0.0</td>\n",
       "      <td>0.285724</td>\n",
       "    </tr>\n",
       "    <tr>\n",
       "      <th>min</th>\n",
       "      <td>1.000000</td>\n",
       "      <td>3.009580</td>\n",
       "      <td>7.699193e-07</td>\n",
       "      <td>1.000000</td>\n",
       "      <td>1.0</td>\n",
       "      <td>-3.849713</td>\n",
       "      <td>1.977272</td>\n",
       "      <td>0.000000</td>\n",
       "      <td>0.000000</td>\n",
       "      <td>0.000000</td>\n",
       "      <td>0.000000</td>\n",
       "      <td>-0.166196</td>\n",
       "      <td>0.000000</td>\n",
       "      <td>0.0</td>\n",
       "      <td>0.0</td>\n",
       "      <td>0.0</td>\n",
       "      <td>50.507507</td>\n",
       "    </tr>\n",
       "    <tr>\n",
       "      <th>25%</th>\n",
       "      <td>6336.250000</td>\n",
       "      <td>9923.293318</td>\n",
       "      <td>1.515496e+02</td>\n",
       "      <td>8.000000</td>\n",
       "      <td>1.0</td>\n",
       "      <td>-0.877096</td>\n",
       "      <td>3.073859</td>\n",
       "      <td>1.231080</td>\n",
       "      <td>0.915550</td>\n",
       "      <td>4.368803</td>\n",
       "      <td>2.697681</td>\n",
       "      <td>-0.004924</td>\n",
       "      <td>0.123292</td>\n",
       "      <td>0.0</td>\n",
       "      <td>0.0</td>\n",
       "      <td>0.0</td>\n",
       "      <td>51.705555</td>\n",
       "    </tr>\n",
       "    <tr>\n",
       "      <th>50%</th>\n",
       "      <td>12671.500000</td>\n",
       "      <td>19995.797442</td>\n",
       "      <td>3.091437e+02</td>\n",
       "      <td>16.000000</td>\n",
       "      <td>1.0</td>\n",
       "      <td>-0.307042</td>\n",
       "      <td>3.217280</td>\n",
       "      <td>2.429880</td>\n",
       "      <td>1.819995</td>\n",
       "      <td>8.613559</td>\n",
       "      <td>5.335398</td>\n",
       "      <td>0.000000</td>\n",
       "      <td>0.143840</td>\n",
       "      <td>0.0</td>\n",
       "      <td>0.0</td>\n",
       "      <td>0.0</td>\n",
       "      <td>51.855881</td>\n",
       "    </tr>\n",
       "    <tr>\n",
       "      <th>75%</th>\n",
       "      <td>19006.750000</td>\n",
       "      <td>29986.687353</td>\n",
       "      <td>5.823269e+02</td>\n",
       "      <td>24.000000</td>\n",
       "      <td>1.0</td>\n",
       "      <td>0.038933</td>\n",
       "      <td>3.333310</td>\n",
       "      <td>3.599178</td>\n",
       "      <td>2.730624</td>\n",
       "      <td>12.763992</td>\n",
       "      <td>8.010834</td>\n",
       "      <td>0.001170</td>\n",
       "      <td>0.149234</td>\n",
       "      <td>0.0</td>\n",
       "      <td>0.0</td>\n",
       "      <td>0.0</td>\n",
       "      <td>52.065273</td>\n",
       "    </tr>\n",
       "    <tr>\n",
       "      <th>max</th>\n",
       "      <td>25342.000000</td>\n",
       "      <td>36639.617045</td>\n",
       "      <td>2.620980e+03</td>\n",
       "      <td>27.000000</td>\n",
       "      <td>1.0</td>\n",
       "      <td>2.061054</td>\n",
       "      <td>3.868523</td>\n",
       "      <td>3.803227</td>\n",
       "      <td>3.814257</td>\n",
       "      <td>13.472291</td>\n",
       "      <td>11.103696</td>\n",
       "      <td>0.183801</td>\n",
       "      <td>0.218859</td>\n",
       "      <td>0.0</td>\n",
       "      <td>0.0</td>\n",
       "      <td>0.0</td>\n",
       "      <td>52.810326</td>\n",
       "    </tr>\n",
       "  </tbody>\n",
       "</table>\n",
       "</div>"
      ],
      "text/plain": [
       "         Data_Point  Test_Time(s)  Step_Time(s)    Step_Index  Cycle_Index  \\\n",
       "count  25342.000000  25342.000000  2.534200e+04  25342.000000      25342.0   \n",
       "mean   12671.500000  19792.018992  4.487835e+02     15.637361          1.0   \n",
       "std     7315.749597  10344.669421  4.253477e+02      6.714514          0.0   \n",
       "min        1.000000      3.009580  7.699193e-07      1.000000          1.0   \n",
       "25%     6336.250000   9923.293318  1.515496e+02      8.000000          1.0   \n",
       "50%    12671.500000  19995.797442  3.091437e+02     16.000000          1.0   \n",
       "75%    19006.750000  29986.687353  5.823269e+02     24.000000          1.0   \n",
       "max    25342.000000  36639.617045  2.620980e+03     27.000000          1.0   \n",
       "\n",
       "         Current(A)    Voltage(V)  Charge_Capacity(Ah)  \\\n",
       "count  25342.000000  25342.000000         25342.000000   \n",
       "mean      -0.365870      3.194413             2.377684   \n",
       "std        0.942702      0.248860             1.051746   \n",
       "min       -3.849713      1.977272             0.000000   \n",
       "25%       -0.877096      3.073859             1.231080   \n",
       "50%       -0.307042      3.217280             2.429880   \n",
       "75%        0.038933      3.333310             3.599178   \n",
       "max        2.061054      3.868523             3.803227   \n",
       "\n",
       "       Discharge_Capacity(Ah)  Charge_Energy(Wh)  Discharge_Energy(Wh)  \\\n",
       "count            25342.000000       25342.000000          25342.000000   \n",
       "mean                 1.835368           8.428493              5.377812   \n",
       "std                  1.108242           3.729495              3.239910   \n",
       "min                  0.000000           0.000000              0.000000   \n",
       "25%                  0.915550           4.368803              2.697681   \n",
       "50%                  1.819995           8.613559              5.335398   \n",
       "75%                  2.730624          12.763992              8.010834   \n",
       "max                  3.814257          13.472291             11.103696   \n",
       "\n",
       "         dV/dt(V/s)  Internal_Resistance(Ohm)  Is_FC_Data  AC_Impedance(Ohm)  \\\n",
       "count  25342.000000              25342.000000     25342.0            25342.0   \n",
       "mean      -0.000077                  0.136752         0.0                0.0   \n",
       "std        0.029755                  0.031450         0.0                0.0   \n",
       "min       -0.166196                  0.000000         0.0                0.0   \n",
       "25%       -0.004924                  0.123292         0.0                0.0   \n",
       "50%        0.000000                  0.143840         0.0                0.0   \n",
       "75%        0.001170                  0.149234         0.0                0.0   \n",
       "max        0.183801                  0.218859         0.0                0.0   \n",
       "\n",
       "       ACI_Phase_Angle(Deg)  Temperature (C)_1  \n",
       "count               25342.0       25342.000000  \n",
       "mean                    0.0          51.895414  \n",
       "std                     0.0           0.285724  \n",
       "min                     0.0          50.507507  \n",
       "25%                     0.0          51.705555  \n",
       "50%                     0.0          51.855881  \n",
       "75%                     0.0          52.065273  \n",
       "max                     0.0          52.810326  "
      ]
     },
     "execution_count": 25,
     "metadata": {},
     "output_type": "execute_result"
    }
   ],
   "source": [
    "df.describe()"
   ]
  },
  {
   "cell_type": "code",
   "execution_count": null,
   "metadata": {},
   "outputs": [],
   "source": []
  },
  {
   "cell_type": "code",
   "execution_count": null,
   "metadata": {},
   "outputs": [],
   "source": []
  },
  {
   "cell_type": "markdown",
   "metadata": {},
   "source": [
    "## Training and Testing Data\n",
    "\n",
    "Let's set X which consists of numerical features of the battery\n",
    "whereas target variable y consists of charge and discharge capacities\n",
    "\n",
    "Let's split the data into training and testing sets.\n"
   ]
  },
  {
   "cell_type": "markdown",
   "metadata": {},
   "source": [
    "** Use model_selection.train_test_split from sklearn to split the data into training and testing sets. Set test_size=0.3 and random_state=101**"
   ]
  },
  {
   "cell_type": "code",
   "execution_count": 13,
   "metadata": {},
   "outputs": [],
   "source": [
    "from sklearn.model_selection import train_test_split\n",
    "X_train, X_test, y_train, y_test = train_test_split(X, y, test_size=0.3, random_state=101)\n"
   ]
  },
  {
   "cell_type": "code",
   "execution_count": 14,
   "metadata": {},
   "outputs": [],
   "source": [
    "from tensorflow.keras.models import Sequential\n",
    "from tensorflow.keras.layers import Dense, Activation,BatchNormalization\n",
    "from tensorflow.keras.optimizers import Adam\n"
   ]
  },
  {
   "cell_type": "code",
   "execution_count": 15,
   "metadata": {},
   "outputs": [],
   "source": [
    "model = Sequential()\n",
    "model.add(BatchNormalization())\n",
    "model.add(Dense(30,activation='relu'))\n",
    "model.add(BatchNormalization())\n",
    "model.add(Dense(20,activation='relu'))\n",
    "model.add(BatchNormalization())\n",
    "model.add(Dense(10,activation='relu'))\n",
    "model.add(Dense(2))\n",
    "\n",
    "model.compile(optimizer='adam',loss='mse')"
   ]
  },
  {
   "cell_type": "code",
   "execution_count": 16,
   "metadata": {},
   "outputs": [
    {
     "name": "stdout",
     "output_type": "stream",
     "text": [
      "Epoch 1/50\n",
      "2058/2058 [==============================] - 5s 2ms/step - loss: 0.1444 - val_loss: 0.0129\n",
      "Epoch 2/50\n",
      "2058/2058 [==============================] - 4s 2ms/step - loss: 0.0238 - val_loss: 0.0076\n",
      "Epoch 3/50\n",
      "2058/2058 [==============================] - 4s 2ms/step - loss: 0.0169 - val_loss: 0.0082\n",
      "Epoch 4/50\n",
      "2058/2058 [==============================] - 4s 2ms/step - loss: 0.0139 - val_loss: 0.0048\n",
      "Epoch 5/50\n",
      "2058/2058 [==============================] - 4s 2ms/step - loss: 0.0115 - val_loss: 0.0048\n",
      "Epoch 6/50\n",
      "2058/2058 [==============================] - 4s 2ms/step - loss: 0.0102 - val_loss: 0.0036\n",
      "Epoch 7/50\n",
      "2058/2058 [==============================] - 4s 2ms/step - loss: 0.0091 - val_loss: 0.0030\n",
      "Epoch 8/50\n",
      "2058/2058 [==============================] - 4s 2ms/step - loss: 0.0078 - val_loss: 0.0035\n",
      "Epoch 9/50\n",
      "2058/2058 [==============================] - 4s 2ms/step - loss: 0.0070 - val_loss: 0.0026\n",
      "Epoch 10/50\n",
      "2058/2058 [==============================] - 4s 2ms/step - loss: 0.0063 - val_loss: 0.0018\n",
      "Epoch 11/50\n",
      "2058/2058 [==============================] - 4s 2ms/step - loss: 0.0058 - val_loss: 0.0019\n",
      "Epoch 12/50\n",
      "2058/2058 [==============================] - 4s 2ms/step - loss: 0.0054 - val_loss: 0.0037\n",
      "Epoch 13/50\n",
      "2058/2058 [==============================] - 4s 2ms/step - loss: 0.0051 - val_loss: 0.0019\n",
      "Epoch 14/50\n",
      "2058/2058 [==============================] - 4s 2ms/step - loss: 0.0049 - val_loss: 0.0018\n",
      "Epoch 15/50\n",
      "2058/2058 [==============================] - 4s 2ms/step - loss: 0.0048 - val_loss: 0.0020\n",
      "Epoch 16/50\n",
      "2058/2058 [==============================] - 4s 2ms/step - loss: 0.0047 - val_loss: 0.0016\n",
      "Epoch 17/50\n",
      "2058/2058 [==============================] - 4s 2ms/step - loss: 0.0043 - val_loss: 0.0015\n",
      "Epoch 18/50\n",
      "2058/2058 [==============================] - 4s 2ms/step - loss: 0.0043 - val_loss: 0.0019\n",
      "Epoch 19/50\n",
      "2058/2058 [==============================] - 4s 2ms/step - loss: 0.0043 - val_loss: 0.0013\n",
      "Epoch 20/50\n",
      "2058/2058 [==============================] - 4s 2ms/step - loss: 0.0042 - val_loss: 0.0012\n",
      "Epoch 21/50\n",
      "2058/2058 [==============================] - 4s 2ms/step - loss: 0.0041 - val_loss: 0.0016\n",
      "Epoch 22/50\n",
      "2058/2058 [==============================] - 4s 2ms/step - loss: 0.0039 - val_loss: 0.0020\n",
      "Epoch 23/50\n",
      "2058/2058 [==============================] - 4s 2ms/step - loss: 0.0040 - val_loss: 0.0044\n",
      "Epoch 24/50\n",
      "2058/2058 [==============================] - 4s 2ms/step - loss: 0.0039 - val_loss: 0.0014\n",
      "Epoch 25/50\n",
      "2058/2058 [==============================] - 4s 2ms/step - loss: 0.0039 - val_loss: 0.0020\n",
      "Epoch 26/50\n",
      "2058/2058 [==============================] - 4s 2ms/step - loss: 0.0038 - val_loss: 0.0014\n",
      "Epoch 27/50\n",
      "2058/2058 [==============================] - 4s 2ms/step - loss: 0.0037 - val_loss: 0.0013\n",
      "Epoch 28/50\n",
      "2058/2058 [==============================] - 4s 2ms/step - loss: 0.0037 - val_loss: 0.0016\n",
      "Epoch 29/50\n",
      "2058/2058 [==============================] - 4s 2ms/step - loss: 0.0037 - val_loss: 0.0018\n",
      "Epoch 30/50\n",
      "2058/2058 [==============================] - 4s 2ms/step - loss: 0.0036 - val_loss: 0.0016\n",
      "Epoch 31/50\n",
      "2058/2058 [==============================] - 4s 2ms/step - loss: 0.0035 - val_loss: 0.0014\n",
      "Epoch 32/50\n",
      "2058/2058 [==============================] - 4s 2ms/step - loss: 0.0035 - val_loss: 0.0011\n",
      "Epoch 33/50\n",
      "2058/2058 [==============================] - 4s 2ms/step - loss: 0.0036 - val_loss: 0.0015\n",
      "Epoch 34/50\n",
      "2058/2058 [==============================] - 4s 2ms/step - loss: 0.0035 - val_loss: 0.0010\n",
      "Epoch 35/50\n",
      "2058/2058 [==============================] - 4s 2ms/step - loss: 0.0035 - val_loss: 0.0012\n",
      "Epoch 36/50\n",
      "2058/2058 [==============================] - 4s 2ms/step - loss: 0.0035 - val_loss: 0.0017\n",
      "Epoch 37/50\n",
      "2058/2058 [==============================] - 4s 2ms/step - loss: 0.0035 - val_loss: 0.0012\n",
      "Epoch 38/50\n",
      "2058/2058 [==============================] - 4s 2ms/step - loss: 0.0035 - val_loss: 0.0017\n",
      "Epoch 39/50\n",
      "2058/2058 [==============================] - 4s 2ms/step - loss: 0.0034 - val_loss: 0.0010\n",
      "Epoch 40/50\n",
      "2058/2058 [==============================] - 4s 2ms/step - loss: 0.0034 - val_loss: 0.0011\n",
      "Epoch 41/50\n",
      "2058/2058 [==============================] - 4s 2ms/step - loss: 0.0033 - val_loss: 0.0015\n",
      "Epoch 42/50\n",
      "2058/2058 [==============================] - 4s 2ms/step - loss: 0.0033 - val_loss: 9.9509e-04\n",
      "Epoch 43/50\n",
      "2058/2058 [==============================] - 4s 2ms/step - loss: 0.0033 - val_loss: 0.0013\n",
      "Epoch 44/50\n",
      "2058/2058 [==============================] - 4s 2ms/step - loss: 0.0033 - val_loss: 0.0012\n",
      "Epoch 45/50\n",
      "2058/2058 [==============================] - 5s 2ms/step - loss: 0.0032 - val_loss: 0.0012\n",
      "Epoch 46/50\n",
      "2058/2058 [==============================] - 4s 2ms/step - loss: 0.0032 - val_loss: 0.0018\n",
      "Epoch 47/50\n",
      "2058/2058 [==============================] - 4s 2ms/step - loss: 0.0033 - val_loss: 7.9860e-04\n",
      "Epoch 48/50\n",
      "2058/2058 [==============================] - 4s 2ms/step - loss: 0.0032 - val_loss: 0.0014\n",
      "Epoch 49/50\n",
      "2058/2058 [==============================] - 4s 2ms/step - loss: 0.0032 - val_loss: 0.0024\n",
      "Epoch 50/50\n",
      "2058/2058 [==============================] - 4s 2ms/step - loss: 0.0032 - val_loss: 9.1621e-04\n"
     ]
    },
    {
     "data": {
      "text/plain": [
       "<keras.callbacks.History at 0x111fd777e10>"
      ]
     },
     "execution_count": 16,
     "metadata": {},
     "output_type": "execute_result"
    }
   ],
   "source": [
    "model.fit(x=X_train,y=y_train.values,\n",
    "          validation_data=(X_test,y_test.values),\n",
    "          batch_size=128,epochs=50)"
   ]
  },
  {
   "cell_type": "code",
   "execution_count": 17,
   "metadata": {},
   "outputs": [],
   "source": [
    "losses = pd.DataFrame(model.history.history)"
   ]
  },
  {
   "cell_type": "code",
   "execution_count": null,
   "metadata": {},
   "outputs": [],
   "source": []
  },
  {
   "cell_type": "code",
   "execution_count": 18,
   "metadata": {},
   "outputs": [
    {
     "data": {
      "text/plain": [
       "<matplotlib.axes._subplots.AxesSubplot at 0x1118022d898>"
      ]
     },
     "execution_count": 18,
     "metadata": {},
     "output_type": "execute_result"
    },
    {
     "data": {
      "image/png": "[encoded data removed]",
      "text/plain": [
       "<Figure size 432x288 with 1 Axes>"
      ]
     },
     "metadata": {
      "needs_background": "light"
     },
     "output_type": "display_data"
    }
   ],
   "source": [
    "losses.plot()"
   ]
  },
  {
   "cell_type": "code",
   "execution_count": 94,
   "metadata": {
    "scrolled": true
   },
   "outputs": [
    {
     "data": {
      "text/plain": [
       "[<tf.Variable 'dense_18/kernel:0' shape=(4, 30) dtype=float32, numpy=\n",
       " array([[ 6.78614855e-01,  5.34919262e-01, -7.53346562e-01,\n",
       "         -6.36899769e-02,  5.74770212e-01,  5.27289391e-01,\n",
       "          6.73822284e-01, -1.10691041e-01,  2.23158538e-01,\n",
       "         -7.38653123e-01,  3.11299205e-01, -5.84935188e-01,\n",
       "          1.51649213e+00, -1.39571190e-01, -8.21066201e-01,\n",
       "          2.82743126e-02,  8.19608476e-03, -3.79426867e-01,\n",
       "          2.84301788e-01, -5.71692526e-01, -8.41419578e-01,\n",
       "         -1.64740026e-01, -3.57122600e-01, -9.01016116e-01,\n",
       "          1.43466577e-01,  2.97464937e-01,  6.76185071e-01,\n",
       "          2.67863870e-02, -1.28087771e+00, -3.19483906e-01],\n",
       "        [-2.88561285e-01, -4.45007205e-01, -1.80469304e-01,\n",
       "         -1.22516714e-01,  3.15326214e-01, -7.28549436e-02,\n",
       "          2.43559867e-01, -1.36825085e-01, -8.99084657e-02,\n",
       "          4.90752384e-02, -1.48352325e-01, -2.88323194e-01,\n",
       "         -1.46075010e-01, -4.00160253e-01, -5.15432730e-02,\n",
       "          2.00510293e-01,  2.31961742e-01,  5.03433347e-02,\n",
       "         -3.59597467e-02, -3.56090039e-01, -2.38783553e-01,\n",
       "          2.69047230e-01,  3.26793909e-01,  6.93728626e-02,\n",
       "         -3.41215789e-01, -6.02052808e-02, -2.48536453e-01,\n",
       "          7.63836503e-02,  1.51152693e-04,  8.80100429e-02],\n",
       "        [ 9.52592585e-03,  1.07348897e-01,  2.64817685e-01,\n",
       "         -2.14332044e-01,  1.15396962e-01,  2.86202729e-01,\n",
       "          2.81300813e-01, -3.25357050e-01,  4.40479428e-01,\n",
       "          8.99782851e-02,  1.04760259e-01,  1.79332405e-01,\n",
       "          2.04695240e-01, -1.25791997e-01,  2.26525187e-01,\n",
       "          2.16546461e-01,  3.56874317e-01, -2.28182837e-01,\n",
       "         -1.24092773e-01,  2.11127907e-01,  1.36453226e-01,\n",
       "         -3.21080089e-01,  1.33771017e-01,  7.10449815e-02,\n",
       "          1.51121333e-01, -4.19010848e-01,  3.94810364e-02,\n",
       "         -4.09297943e-01, -1.73840928e-03, -3.02957594e-01],\n",
       "        [-4.63947177e-01,  8.91309619e-01,  1.72602221e-01,\n",
       "          3.02366894e-02, -1.33456957e+00,  1.34038359e-01,\n",
       "          1.41425043e-01, -3.80803019e-01, -2.86299624e-02,\n",
       "         -2.56698757e-01,  5.20255089e-01, -3.38495553e-01,\n",
       "          1.51565984e-01,  1.08044040e+00, -9.32521839e-03,\n",
       "         -1.23469286e-01, -5.80569863e-01, -3.62150699e-01,\n",
       "         -4.03732061e-01, -3.95187199e-01,  5.51137388e-01,\n",
       "          3.48579854e-01, -1.14372158e+00, -4.47733492e-01,\n",
       "         -2.91003892e-03,  2.22263306e-01,  4.88773197e-01,\n",
       "          3.24604779e-01,  2.12071813e-03, -3.39722276e-01]], dtype=float32)>,\n",
       " <tf.Variable 'dense_18/bias:0' shape=(30,) dtype=float32, numpy=\n",
       " array([ 0.5316591 , -0.06237513, -0.04093928, -0.03329548, -0.12189922,\n",
       "        -0.05123932,  0.23253977,  0.        ,  0.16019674,  0.14007646,\n",
       "        -0.1983897 ,  0.07529931, -0.12311139, -0.20582286,  0.37009084,\n",
       "         0.08417533, -0.17653018,  0.        , -0.00657726,  0.19745263,\n",
       "         0.08849299,  0.        , -0.06532662, -0.11191631,  0.15246388,\n",
       "         0.        ,  0.32220852,  0.        ,  0.19908841,  0.        ],\n",
       "       dtype=float32)>,\n",
       " <tf.Variable 'batch_normalization_4/gamma:0' shape=(30,) dtype=float32, numpy=\n",
       " array([0.85245   , 1.007285  , 0.8619226 , 0.9571261 , 0.9285879 ,\n",
       "        0.8301416 , 0.78776336, 1.        , 0.88103706, 0.5710114 ,\n",
       "        0.675545  , 0.7548121 , 0.83307236, 0.69391173, 0.9199209 ,\n",
       "        0.7737387 , 0.9263609 , 1.        , 0.9940658 , 0.8566178 ,\n",
       "        0.863958  , 1.        , 0.88962734, 1.2516072 , 0.7381308 ,\n",
       "        1.        , 0.8340346 , 1.        , 2.4970567 , 1.        ],\n",
       "       dtype=float32)>,\n",
       " <tf.Variable 'batch_normalization_4/beta:0' shape=(30,) dtype=float32, numpy=\n",
       " array([ 0.29579234,  0.25941056,  0.00661178, -0.22805394,  0.27295804,\n",
       "         0.15070124, -0.00230685,  0.05864186, -0.21644074,  0.38598087,\n",
       "        -0.10211157,  0.04341314, -0.20278478, -0.16928725, -0.01469858,\n",
       "        -0.2919839 ,  0.15309925,  0.43011576,  0.23166087, -0.43778643,\n",
       "         0.2373065 ,  0.00888098,  0.15316823, -0.24264812,  0.24605586,\n",
       "        -0.25441703, -0.23986298,  0.32827526,  0.17104736,  0.3758348 ],\n",
       "       dtype=float32)>,\n",
       " <tf.Variable 'batch_normalization_4/moving_mean:0' shape=(30,) dtype=float32, numpy=\n",
       " array([7.6350307e-01, 5.2564275e-01, 7.7277577e-01, 1.1643451e-36,\n",
       "        2.5718948e-01, 9.6224499e-01, 1.1334040e+00, 0.0000000e+00,\n",
       "        1.6320430e+00, 3.1739539e-01, 2.3497565e-01, 6.7931384e-01,\n",
       "        7.9003549e-01, 3.6509141e-02, 1.0044427e+00, 7.1406698e-01,\n",
       "        8.7699044e-01, 0.0000000e+00, 1.1649327e-36, 9.2885774e-01,\n",
       "        5.1112843e-01, 0.0000000e+00, 2.5321409e-01, 1.5285955e-02,\n",
       "        7.7731484e-01, 0.0000000e+00, 6.2741488e-01, 0.0000000e+00,\n",
       "        2.1334602e-02, 0.0000000e+00], dtype=float32)>,\n",
       " <tf.Variable 'batch_normalization_4/moving_variance:0' shape=(30,) dtype=float32, numpy=\n",
       " array([7.6844282e-02, 1.3517118e-01, 1.2759824e-02, 1.1744930e-36,\n",
       "        4.9237549e-02, 1.3299305e-03, 8.5780576e-02, 1.1719860e-36,\n",
       "        2.6110660e-03, 5.6720735e-03, 1.2757649e-02, 5.4851498e-02,\n",
       "        1.2131244e-02, 1.9904451e-02, 1.3115708e-03, 5.2405823e-02,\n",
       "        8.1753530e-02, 1.1719860e-36, 1.1719860e-36, 8.4822208e-02,\n",
       "        3.4909848e-02, 1.1719860e-36, 5.2392315e-02, 1.7501296e-03,\n",
       "        8.3174676e-02, 1.1719860e-36, 5.0169490e-02, 1.1719860e-36,\n",
       "        1.2457103e-03, 1.1719860e-36], dtype=float32)>,\n",
       " <tf.Variable 'dense_19/kernel:0' shape=(30, 20) dtype=float32, numpy=\n",
       " array([[-1.14459507e-01,  5.16597033e-02, -3.07320088e-01,\n",
       "         -1.17307082e-01,  2.28352726e-01, -1.29472286e-01,\n",
       "         -2.12142766e-01,  2.01844841e-01, -2.72161677e-03,\n",
       "          4.74889576e-02, -3.15271407e-01,  2.31469885e-01,\n",
       "         -3.44370008e-01,  1.50689632e-01, -4.03623730e-01,\n",
       "          3.43041122e-01,  5.22343934e-01, -1.62761942e-01,\n",
       "          2.73068070e-01, -4.34597582e-02],\n",
       "        [ 3.48130941e-01, -1.81523010e-01,  1.19238431e-02,\n",
       "         -6.44996047e-01,  1.73507676e-01,  1.19724937e-01,\n",
       "         -3.72337066e-02,  3.51542503e-01, -2.67594844e-01,\n",
       "          2.93740988e-01,  3.24430585e-01,  1.27016857e-01,\n",
       "         -2.00113937e-01,  1.11669628e-02, -8.82047415e-01,\n",
       "          5.22649586e-01, -3.29215109e-01,  5.06452508e-02,\n",
       "         -2.62215585e-01,  2.09524095e-01],\n",
       "        [ 1.62348777e-01,  1.41046911e-01,  3.20154905e-01,\n",
       "          8.83149803e-02, -4.17869627e-01,  2.11768433e-01,\n",
       "          1.24119930e-01, -1.42292693e-01, -1.95230842e-01,\n",
       "         -2.24479176e-02, -1.45081624e-01, -4.32837419e-02,\n",
       "         -8.41356218e-02, -3.85091007e-01,  3.22640479e-01,\n",
       "          5.01684030e-04,  1.81332067e-01,  2.45924413e-01,\n",
       "          2.54140645e-01, -1.97863594e-01],\n",
       "        [-3.13702732e-01, -2.49618990e-03, -2.39346042e-01,\n",
       "         -5.20872951e-01,  2.90959358e-01, -5.63633025e-01,\n",
       "         -6.99201882e-01, -4.14492726e-01,  1.97072878e-01,\n",
       "          5.82164414e-02, -6.40572906e-02, -5.68171859e-01,\n",
       "          5.44393621e-03,  3.73555362e-01,  5.07260442e-01,\n",
       "         -1.36841190e+00, -4.30108428e-01,  7.56656080e-02,\n",
       "         -4.19553488e-01, -4.34798338e-02],\n",
       "        [-3.97810310e-01, -3.73573229e-02,  1.54612018e-02,\n",
       "          1.46566898e-01,  2.44806275e-01, -1.61755875e-01,\n",
       "         -2.81867981e-01,  7.01674163e-01,  1.03227466e-01,\n",
       "         -1.85666710e-01, -8.69878754e-02,  1.24993436e-01,\n",
       "         -4.50641662e-01, -1.69001460e-01,  7.70425498e-02,\n",
       "         -1.96904212e-01,  2.89618194e-01, -1.23509094e-01,\n",
       "         -6.58967867e-02, -4.78033155e-01],\n",
       "        [ 2.12046597e-03, -3.66424918e-02,  5.19656360e-01,\n",
       "          1.67614996e-01, -1.69106200e-01, -3.14401209e-01,\n",
       "         -1.43506499e-02,  1.05830813e-02,  2.02840969e-01,\n",
       "         -5.36368303e-02, -4.39009070e-01,  1.35679886e-01,\n",
       "         -1.56714082e-01, -1.41232580e-01, -1.62367448e-01,\n",
       "         -2.67780968e-03,  2.07533777e-01, -1.24152079e-01,\n",
       "          6.46192849e-01, -4.23516445e-02],\n",
       "        [ 2.77285099e-01,  3.01350892e-01,  3.20326418e-01,\n",
       "         -1.26713485e-01,  3.53196859e-01, -1.28886700e-01,\n",
       "         -2.56381243e-01,  1.70823008e-01, -3.52149345e-02,\n",
       "          1.49854168e-01,  1.81720592e-03,  2.76663274e-01,\n",
       "          7.45597342e-03,  2.85327490e-02, -2.45373592e-01,\n",
       "          2.90537924e-01,  5.71045727e-02,  2.19005883e-01,\n",
       "          1.48794442e-01,  1.66960880e-01],\n",
       "        [ 3.00737053e-01, -7.16149211e-02,  1.22369090e-02,\n",
       "          3.94404382e-01, -1.05809323e-01,  4.48198676e-01,\n",
       "          3.57459009e-01,  1.45123199e-01, -1.55867115e-01,\n",
       "         -1.63712889e-01,  3.27290028e-01, -4.02515347e-04,\n",
       "         -4.21702117e-01,  9.75815654e-02, -3.65765363e-01,\n",
       "          1.28506124e+00,  3.23189646e-01,  1.82621051e-02,\n",
       "          1.87284574e-01, -5.52092075e-01],\n",
       "        [ 1.80402398e-01, -1.46710388e-02,  7.48683810e-01,\n",
       "          2.58304328e-01, -1.57174617e-01, -4.58388776e-01,\n",
       "          3.75488877e-01, -1.37636483e-01,  2.48673409e-01,\n",
       "         -5.12088910e-02, -3.93002540e-01, -1.56520516e-01,\n",
       "          1.49037510e-01, -1.25997216e-01,  3.40239227e-01,\n",
       "          3.61390710e-01,  9.24695432e-02, -2.54687592e-02,\n",
       "          6.05666757e-01, -3.32379073e-01],\n",
       "        [ 2.70909756e-01,  2.32033476e-01, -6.07438087e-02,\n",
       "          1.92308992e-01, -2.87463099e-01,  2.28395432e-01,\n",
       "          5.07598042e-01,  2.50779778e-01, -6.32198304e-02,\n",
       "          1.97999720e-02,  2.53283143e-01,  2.25693792e-01,\n",
       "         -2.10908782e-02, -7.75686055e-02, -5.32684363e-02,\n",
       "          1.19222857e-01,  8.87080655e-03,  7.00530037e-02,\n",
       "          1.29721984e-01, -2.57695556e-01],\n",
       "        [-1.53254882e-01, -2.33609229e-01,  1.57558784e-01,\n",
       "          1.54365852e-01, -8.79510939e-02,  3.23304027e-01,\n",
       "         -2.46490508e-01,  2.23465383e-01,  3.34738800e-03,\n",
       "         -2.20172837e-01, -4.16135490e-02,  4.64219637e-02,\n",
       "         -2.78890375e-02,  2.66950130e-01, -4.99554202e-02,\n",
       "          5.40776402e-02, -2.78192461e-02,  7.74058327e-02,\n",
       "         -6.38302639e-02,  3.10039390e-02],\n",
       "        [ 2.75086224e-01,  1.97408363e-01, -1.05146818e-01,\n",
       "          1.29139572e-01, -2.95667611e-02, -3.61152083e-01,\n",
       "          6.40566647e-02, -1.23403825e-01, -2.36125872e-01,\n",
       "         -3.41250211e-01,  1.43916413e-01, -3.38630289e-01,\n",
       "          1.54202089e-01,  4.72201444e-02,  2.50325829e-01,\n",
       "          2.73113012e-01,  1.27161350e-02, -2.39309128e-02,\n",
       "          2.05490276e-01, -2.71128595e-01],\n",
       "        [ 2.22221985e-02, -3.66456389e-01,  2.96915144e-01,\n",
       "          1.59502728e-03,  1.43156484e-01, -4.12907660e-01,\n",
       "          8.76319185e-02, -5.58045879e-02,  2.80292511e-01,\n",
       "          1.55727863e-01, -3.46418083e-01,  1.80696212e-02,\n",
       "          3.04352976e-02,  2.99599916e-02,  6.52612746e-02,\n",
       "          1.93960920e-01, -4.00482193e-02, -7.98783302e-02,\n",
       "          4.48740423e-01,  1.55643776e-01],\n",
       "        [-2.85482705e-01,  3.07260603e-01,  1.22779369e-01,\n",
       "         -2.64190018e-01,  5.40146708e-01,  2.07088202e-01,\n",
       "         -4.04069752e-01, -8.47842544e-02,  4.09479961e-02,\n",
       "          5.91100194e-02,  7.97860622e-02, -2.24528790e-01,\n",
       "         -3.54749441e-01,  5.63211203e-01,  8.31461921e-02,\n",
       "          6.06421940e-02,  1.78590906e-03, -1.21603329e-02,\n",
       "         -2.53150135e-01,  3.69266331e-01],\n",
       "        [ 1.18796267e-01,  1.08796179e-01,  1.00258362e+00,\n",
       "          2.23835096e-01, -6.28420472e-01,  2.11291257e-02,\n",
       "          8.58550668e-02, -3.61385882e-01, -1.70153275e-01,\n",
       "          5.04333898e-02,  2.97570527e-01, -1.93503842e-01,\n",
       "         -1.52725175e-01, -4.16477472e-01,  3.77893180e-01,\n",
       "          2.38609035e-03, -1.26033127e-01, -5.23527991e-03,\n",
       "          1.44507587e-01,  3.46857533e-02],\n",
       "        [ 5.66909947e-02,  1.86632052e-01,  7.51709240e-03,\n",
       "          5.32888286e-02, -1.23964347e-01, -4.67887878e-01,\n",
       "          4.70018834e-02, -1.54411234e-02,  5.90006486e-02,\n",
       "         -4.37454283e-02,  4.75956649e-02, -6.21880591e-02,\n",
       "          2.34388828e-01, -1.97771981e-01,  6.35432750e-02,\n",
       "         -1.35311246e-01, -2.07736522e-01,  2.63397068e-01,\n",
       "          3.28385293e-01, -2.75947541e-01],\n",
       "        [ 1.39271915e-01, -2.65750021e-01,  1.83511794e-01,\n",
       "          3.60889316e-01, -4.62539345e-01, -4.39494196e-03,\n",
       "          3.36145937e-01, -1.34913504e-01,  3.37144077e-01,\n",
       "         -1.76797971e-01, -3.60086381e-01,  2.15890437e-01,\n",
       "          1.33576408e-01, -4.29743618e-01,  3.33039850e-01,\n",
       "          1.32804401e-02,  3.71548921e-01, -2.82206655e-01,\n",
       "          4.62090492e-01, -5.21282375e-01],\n",
       "        [ 2.61628032e-01, -1.47667706e-01,  2.83038557e-01,\n",
       "          3.10935944e-01, -6.93869591e-02,  6.57111824e-01,\n",
       "          5.68372369e-01,  2.95503646e-01, -1.62794217e-02,\n",
       "          1.34041011e-01,  5.78663707e-01,  5.30084729e-01,\n",
       "         -3.24737281e-01, -5.46996295e-01, -3.68723512e-01,\n",
       "          9.50151384e-01,  9.64763761e-01, -3.79210085e-01,\n",
       "         -2.69123111e-02, -1.69462204e-01],\n",
       "        [ 4.80836600e-01,  2.60708809e-01,  2.63709903e-01,\n",
       "          2.17345849e-01, -4.87381145e-02,  5.86928487e-01,\n",
       "          2.72084534e-01,  3.60180497e-01, -3.46955746e-01,\n",
       "          1.95821568e-01,  3.98685843e-01,  2.42363304e-01,\n",
       "         -3.21817726e-01, -4.76541907e-01, -1.77617803e-01,\n",
       "          1.11014974e+00,  3.55404854e-01, -1.27760068e-01,\n",
       "          4.16239470e-01, -5.46053708e-01],\n",
       "        [-3.02440315e-01,  1.37552813e-01,  1.59568712e-01,\n",
       "          1.21883161e-01,  1.86308935e-01, -7.41989240e-02,\n",
       "          3.38594802e-02, -2.51828998e-01, -5.61857447e-02,\n",
       "         -1.28128380e-01, -3.71534586e-01,  5.16906418e-02,\n",
       "          2.61504948e-01,  2.81469643e-01,  1.91268459e-01,\n",
       "         -1.99953809e-01, -3.20201993e-01,  2.21658990e-01,\n",
       "          2.62834635e-02, -1.31137714e-01],\n",
       "        [ 2.66041547e-01,  5.11021540e-02, -1.26198560e-01,\n",
       "         -1.38483569e-01, -1.07518271e-01,  3.63391459e-01,\n",
       "          2.69498914e-01, -2.89964736e-01, -2.17610955e-01,\n",
       "         -5.06584905e-02,  2.34390840e-01, -2.77572930e-01,\n",
       "          2.26154774e-01, -2.25132018e-01,  2.25479901e-01,\n",
       "          1.50551181e-02, -3.79245058e-02, -2.52881378e-01,\n",
       "          2.13071644e-01, -1.91200987e-01],\n",
       "        [ 1.28075257e-01, -1.26084909e-02, -5.04428670e-02,\n",
       "          1.88320100e-01, -4.97422703e-02, -3.63602713e-02,\n",
       "         -1.20354258e-01,  2.16963470e-01,  5.11249490e-02,\n",
       "          2.67845076e-02,  4.37990157e-03,  9.41058919e-02,\n",
       "         -6.91583827e-02,  1.33102953e-01, -9.91079956e-02,\n",
       "          1.94866613e-01,  1.20321192e-01, -2.17273347e-02,\n",
       "          3.32972407e-01,  1.27541497e-01],\n",
       "        [-2.03850925e-01,  3.33694726e-01, -1.63141619e-02,\n",
       "          2.65709639e-01, -1.69779152e-01,  8.23356956e-02,\n",
       "         -1.91970900e-01,  1.48156062e-01,  1.17122252e-02,\n",
       "         -2.21011922e-01,  1.54718846e-01, -2.19886422e-01,\n",
       "         -6.23091757e-01, -3.18324298e-01,  3.32712114e-01,\n",
       "          1.79329753e-01,  1.94961295e-01,  1.65430263e-01,\n",
       "          1.88619450e-01, -3.05637985e-01],\n",
       "        [-1.16977550e-01, -3.81604761e-01,  1.17899768e-01,\n",
       "          1.22465357e-01, -5.56815326e-01, -5.11319280e-01,\n",
       "          1.73371762e-01,  1.38205867e-02, -3.10723074e-02,\n",
       "          9.60195884e-02, -6.65295899e-01, -8.34271684e-02,\n",
       "         -3.34149629e-01, -8.32445547e-02,  2.61851661e-02,\n",
       "          9.77044046e-01, -3.08225870e-01, -5.39142080e-02,\n",
       "         -3.08599561e-01, -3.31011717e-04],\n",
       "        [ 2.49410793e-01,  1.37862697e-01,  2.71431506e-01,\n",
       "          9.29445177e-02, -1.51026145e-01,  9.21513587e-02,\n",
       "          2.03107804e-01,  1.85194537e-02,  3.60553384e-01,\n",
       "         -2.31286846e-02,  1.85596466e-01,  3.81198585e-01,\n",
       "          6.33925945e-02,  4.12057489e-02, -2.08511770e-01,\n",
       "          7.69563690e-02,  1.72042131e-01,  5.44114038e-02,\n",
       "         -1.54914958e-02,  2.78759509e-01],\n",
       "        [-1.71008497e-01,  4.01932299e-02, -5.81106365e-01,\n",
       "         -1.55658752e-01, -1.72363713e-01, -3.67014557e-01,\n",
       "         -7.08998442e-01, -2.18404874e-01,  3.32698077e-01,\n",
       "         -1.97334677e-01, -1.88252285e-01, -5.69702744e-01,\n",
       "          9.52275619e-02,  4.89638686e-01,  2.26844743e-01,\n",
       "         -1.21613848e+00, -3.96347135e-01,  1.55359566e-01,\n",
       "         -4.04504826e-03,  2.77449965e-01],\n",
       "        [-1.11362338e-01, -2.14409322e-01,  1.63125604e-01,\n",
       "         -4.48312193e-01,  1.71520650e-01, -1.10457107e-01,\n",
       "          7.06478022e-03, -2.29925469e-01,  4.30776447e-01,\n",
       "          3.00337881e-01,  2.90555626e-01,  3.77510935e-01,\n",
       "          1.74386352e-01,  7.62972906e-02,  1.80330664e-01,\n",
       "         -1.98295727e-01, -2.12435409e-01,  1.24301620e-01,\n",
       "         -1.69934660e-01,  2.27166712e-01],\n",
       "        [ 3.29619408e-01,  6.01067543e-02,  1.41041696e-01,\n",
       "          9.26570818e-02, -1.80414304e-01,  4.99457359e-01,\n",
       "          4.32546526e-01,  2.21597403e-01, -4.89646733e-01,\n",
       "         -1.11056529e-01,  1.74099594e-01,  4.81013000e-01,\n",
       "         -1.72941983e-01, -2.01127201e-01, -3.56298447e-01,\n",
       "          1.15461385e+00,  8.49595189e-01, -1.41908765e-01,\n",
       "          5.64182281e-01, -1.09217964e-01],\n",
       "        [ 5.50884068e-01, -1.24219418e+00, -1.00569054e-01,\n",
       "         -2.86392212e-01, -2.10145354e-01, -1.30040005e-01,\n",
       "          4.71972734e-01, -1.31633386e-01,  4.52837795e-01,\n",
       "         -1.09593010e+00,  4.97452945e-01, -7.56535828e-01,\n",
       "          4.12595451e-01, -1.11739244e-02, -2.81613857e-01,\n",
       "         -2.39945531e-01,  3.04728836e-01, -2.59510398e+00,\n",
       "         -1.61565930e-01,  2.34090447e-01],\n",
       "        [ 4.44820702e-01,  2.77719378e-01,  2.20732659e-01,\n",
       "          5.47298849e-01, -3.46778303e-01,  4.35853422e-01,\n",
       "          8.21974635e-01,  5.26972055e-01,  1.03097878e-01,\n",
       "          1.28184855e-02,  7.27173463e-02,  3.91226232e-01,\n",
       "         -5.30427754e-01, -3.94419193e-01, -1.12756059e-01,\n",
       "          9.13559794e-01,  6.15494847e-01, -3.35226089e-01,\n",
       "          5.18545747e-01,  1.73725989e-02]], dtype=float32)>,\n",
       " <tf.Variable 'dense_19/bias:0' shape=(20,) dtype=float32, numpy=\n",
       " array([ 0.27306834,  0.03552974,  0.19956264,  0.20188792, -0.0939836 ,\n",
       "         0.3431145 ,  0.4441255 ,  0.29567528, -0.19797212, -0.05772034,\n",
       "         0.2655098 ,  0.29866815, -0.20343944, -0.21488568, -0.21594937,\n",
       "         1.0723534 ,  0.5791838 , -0.20022471,  0.1528874 , -0.25381273],\n",
       "       dtype=float32)>,\n",
       " <tf.Variable 'batch_normalization_5/gamma:0' shape=(20,) dtype=float32, numpy=\n",
       " array([0.5236895 , 1.1566547 , 0.90747243, 0.5220607 , 0.4490378 ,\n",
       "        0.59889555, 0.52880126, 0.5820613 , 0.4245728 , 1.3201756 ,\n",
       "        0.9624016 , 0.77370274, 0.33918273, 0.08939078, 0.44831246,\n",
       "        0.64385504, 0.8613677 , 1.5867285 , 0.4899345 , 0.44479907],\n",
       "       dtype=float32)>,\n",
       " <tf.Variable 'batch_normalization_5/beta:0' shape=(20,) dtype=float32, numpy=\n",
       " array([-0.2796593 ,  0.11696797, -0.08884485,  0.5004102 , -0.31854182,\n",
       "        -0.53588265, -0.09890652, -0.50074446, -0.6034156 ,  0.09968179,\n",
       "        -0.09966263,  0.48162523, -0.3958135 , -0.34100807, -0.18349712,\n",
       "         0.13050574, -0.44814047,  0.172191  , -0.44278812, -0.33714595],\n",
       "       dtype=float32)>,\n",
       " <tf.Variable 'batch_normalization_5/moving_mean:0' shape=(20,) dtype=float32, numpy=\n",
       " array([1.4145865 , 0.6965698 , 0.66919607, 1.1281939 , 0.30459094,\n",
       "        1.8955356 , 1.7483635 , 1.504568  , 0.10075476, 0.44446602,\n",
       "        1.3750602 , 1.5031374 , 0.03043298, 0.19971089, 0.03624469,\n",
       "        3.208105  , 2.468551  , 0.49932665, 1.0595249 , 0.3187994 ],\n",
       "       dtype=float32)>,\n",
       " <tf.Variable 'batch_normalization_5/moving_variance:0' shape=(20,) dtype=float32, numpy=\n",
       " array([1.1771601 , 0.434981  , 0.54935575, 1.3148904 , 0.5484629 ,\n",
       "        1.0263857 , 1.4601068 , 1.1993831 , 0.1788437 , 0.25892216,\n",
       "        1.0376879 , 0.5486987 , 0.02032551, 0.4505118 , 0.02121851,\n",
       "        0.5906608 , 0.6272958 , 0.2854166 , 0.66618544, 0.57926404],\n",
       "       dtype=float32)>,\n",
       " <tf.Variable 'dense_20/kernel:0' shape=(20, 10) dtype=float32, numpy=\n",
       " array([[-1.24918088e-01, -4.21877176e-01, -7.83603415e-02,\n",
       "          3.16800147e-01, -1.43368334e-01,  1.54644176e-01,\n",
       "         -1.02037027e-01,  1.40895218e-01, -1.65387154e-01,\n",
       "          1.37208745e-01],\n",
       "        [ 6.83418289e-02,  2.09490776e-01, -1.29131198e-01,\n",
       "         -1.10647574e-01,  7.56001592e-01,  4.70784068e-01,\n",
       "          5.22158563e-01,  3.02714586e-01,  1.09506980e-01,\n",
       "         -4.08475190e-01],\n",
       "        [ 7.94502627e-03, -5.56073561e-02, -2.55048531e-03,\n",
       "         -1.72799136e-02,  6.44888580e-02, -4.12378572e-02,\n",
       "          1.30645692e-01, -3.97495218e-02, -8.09121370e-01,\n",
       "         -1.17368586e-01],\n",
       "        [-3.75019580e-01,  9.13253278e-02,  1.26790985e-01,\n",
       "          1.02405019e-01,  1.19130298e-01,  1.37629494e-01,\n",
       "          3.34158778e-01, -3.80361378e-02, -4.48785536e-02,\n",
       "         -3.38915557e-01],\n",
       "        [ 2.65142888e-01, -3.39378685e-01,  4.01716679e-01,\n",
       "          2.06856817e-01, -6.79243505e-02,  2.37710834e-01,\n",
       "          1.36875376e-01, -7.50984848e-02,  1.11397572e-01,\n",
       "          7.61747872e-03],\n",
       "        [-5.77234551e-02,  2.28474483e-01,  1.48580551e-01,\n",
       "         -2.57325210e-02, -4.57884133e-01,  3.10835302e-01,\n",
       "          9.35690179e-02,  2.54075080e-01,  3.92251611e-01,\n",
       "          1.75573155e-01],\n",
       "        [-5.48285246e-02,  9.97180268e-02,  9.38167050e-02,\n",
       "         -1.72410160e-01, -9.87192616e-02, -2.73923784e-01,\n",
       "          1.55245021e-01,  2.12319106e-01, -7.84181152e-03,\n",
       "          2.98723727e-01],\n",
       "        [ 2.11577833e-01,  6.13948219e-02, -4.00335521e-01,\n",
       "         -2.00594574e-01,  2.73912311e-01,  3.14385712e-01,\n",
       "          7.66321272e-02,  1.51809350e-01,  5.99376857e-02,\n",
       "          3.17455083e-01],\n",
       "        [-8.02365243e-02, -3.80998015e-01,  3.64739895e-02,\n",
       "         -7.26404428e-01, -1.68680996e-01,  1.13868997e-01,\n",
       "          1.06211208e-01, -4.56447423e-01, -4.26054835e-01,\n",
       "         -1.74735606e-01],\n",
       "        [ 1.61094502e-01,  4.31528807e-01, -2.49375179e-01,\n",
       "         -3.01447392e-01,  2.51131356e-02,  3.98553759e-01,\n",
       "         -3.25128296e-03,  3.98665726e-01,  1.84682772e-01,\n",
       "         -4.98541325e-01],\n",
       "        [-3.07488769e-01, -1.86644793e-01, -2.15995312e-01,\n",
       "         -2.40055978e-01,  1.70395166e-01, -7.17402995e-01,\n",
       "          5.26146404e-02, -2.76288927e-01, -1.86186463e-01,\n",
       "         -1.89553440e-01],\n",
       "        [ 2.59434342e-01,  4.11363006e-01, -3.61770421e-01,\n",
       "          8.39638934e-02,  5.10209739e-01,  4.83088255e-01,\n",
       "          1.16748124e-01,  1.14240954e-02,  5.28128184e-02,\n",
       "         -4.40702170e-01],\n",
       "        [-2.29654804e-01, -3.84623468e-01, -8.02215189e-02,\n",
       "         -5.62892675e-01, -3.97631884e-01, -2.70073265e-01,\n",
       "          7.94232637e-02,  5.24544239e-01, -2.37652957e-01,\n",
       "         -3.73066574e-01],\n",
       "        [-1.54341370e-01,  1.05274230e-01,  1.73892602e-01,\n",
       "         -3.74029368e-01, -3.93986642e-01,  2.39412293e-01,\n",
       "         -7.84450471e-02,  4.00138199e-02,  1.75417468e-01,\n",
       "          4.93009947e-02],\n",
       "        [-1.07212804e-01, -1.61633343e-02, -2.53644735e-01,\n",
       "         -3.37668538e-01,  1.56411603e-01, -1.47030398e-01,\n",
       "          2.00421259e-01,  3.50170396e-02,  2.77301320e-03,\n",
       "          6.24025092e-02],\n",
       "        [-8.00277516e-02,  3.50708030e-02, -3.97457123e-01,\n",
       "         -1.57185003e-01,  2.11549655e-01, -3.47644866e-01,\n",
       "          4.30608541e-02, -1.16331044e-04, -3.43748719e-01,\n",
       "         -1.56219259e-01],\n",
       "        [ 1.75796568e-01, -4.09468621e-01, -1.05208799e-01,\n",
       "         -1.56026751e-01, -6.58874393e-01, -5.10578513e-01,\n",
       "         -1.87328771e-01,  2.57342666e-01, -2.45114207e-01,\n",
       "         -2.12125033e-01],\n",
       "        [ 8.02803338e-01,  3.66824120e-01, -4.34050024e-01,\n",
       "         -8.51323366e-01,  3.95220578e-01, -1.16203330e-03,\n",
       "          1.45707592e-01,  4.28920716e-01, -3.16858560e-01,\n",
       "         -8.08951676e-01],\n",
       "        [ 2.73222566e-01,  3.27203214e-01,  9.25388336e-02,\n",
       "         -2.55922347e-01,  8.78927018e-03,  2.48106435e-01,\n",
       "         -1.76006317e-01, -2.16995478e-01, -3.77641231e-01,\n",
       "          2.40376905e-01],\n",
       "        [ 5.78404218e-02, -2.38804430e-01, -1.96579501e-01,\n",
       "          3.15802217e-01, -2.48974636e-01, -3.92611384e-01,\n",
       "         -3.64474982e-01, -1.00481980e-01, -4.10727821e-02,\n",
       "          3.66578221e-01]], dtype=float32)>,\n",
       " <tf.Variable 'dense_20/bias:0' shape=(10,) dtype=float32, numpy=\n",
       " array([-0.34846097,  0.71758515, -0.34566018,  0.67933947,  0.4633665 ,\n",
       "        -0.37538216,  0.5516159 , -0.31768483,  0.45563862, -0.3228527 ],\n",
       "       dtype=float32)>,\n",
       " <tf.Variable 'dense_21/kernel:0' shape=(10, 2) dtype=float32, numpy=\n",
       " array([[-0.36707798, -0.46383622],\n",
       "        [ 0.8420314 ,  0.18691474],\n",
       "        [ 0.11213852, -0.33139446],\n",
       "        [ 0.56046206,  0.37984583],\n",
       "        [-0.15464215,  0.7379133 ],\n",
       "        [-0.42213044, -0.39668593],\n",
       "        [ 0.8132941 , -0.3295034 ],\n",
       "        [-0.5225613 , -0.20442605],\n",
       "        [ 0.10619078,  0.4974259 ],\n",
       "        [-0.8436622 , -0.6842581 ]], dtype=float32)>,\n",
       " <tf.Variable 'dense_21/bias:0' shape=(2,) dtype=float32, numpy=array([0.42790493, 0.21375793], dtype=float32)>]"
      ]
     },
     "execution_count": 94,
     "metadata": {},
     "output_type": "execute_result"
    }
   ],
   "source": [
    "model.weights"
   ]
  },
  {
   "cell_type": "code",
   "execution_count": 19,
   "metadata": {},
   "outputs": [],
   "source": [
    "from sklearn.metrics import mean_squared_error,mean_absolute_error,explained_variance_score"
   ]
  },
  {
   "cell_type": "code",
   "execution_count": 20,
   "metadata": {},
   "outputs": [],
   "source": [
    "predictions = model.predict(X_test)"
   ]
  },
  {
   "cell_type": "code",
   "execution_count": 21,
   "metadata": {},
   "outputs": [],
   "source": [
    "charge_pred=[predictions[i][0] for i in range(len(predictions))]\n",
    "discharge_pred=[predictions[i][1] for i in range(len(predictions))]"
   ]
  },
  {
   "cell_type": "code",
   "execution_count": 22,
   "metadata": {},
   "outputs": [
    {
     "data": {
      "text/plain": [
       "0.02239043564981582"
      ]
     },
     "execution_count": 22,
     "metadata": {},
     "output_type": "execute_result"
    }
   ],
   "source": [
    "mean_absolute_error(y_test,predictions)"
   ]
  },
  {
   "cell_type": "code",
   "execution_count": 23,
   "metadata": {},
   "outputs": [
    {
     "data": {
      "text/plain": [
       "55076     2.057990\n",
       "259282    2.431764\n",
       "248747    1.188228\n",
       "8237      1.580097\n",
       "131379    2.334986\n",
       "            ...   \n",
       "365319    0.908212\n",
       "144423    1.003903\n",
       "219159    1.070417\n",
       "49507     1.057140\n",
       "309460    2.450625\n",
       "Name: Charge_Capacity(Ah), Length: 112869, dtype: float64"
      ]
     },
     "execution_count": 23,
     "metadata": {},
     "output_type": "execute_result"
    }
   ],
   "source": [
    "y_test['Charge_Capacity(Ah)']"
   ]
  },
  {
   "cell_type": "code",
   "execution_count": 24,
   "metadata": {},
   "outputs": [
    {
     "data": {
      "text/plain": [
       "112869"
      ]
     },
     "execution_count": 24,
     "metadata": {},
     "output_type": "execute_result"
    }
   ],
   "source": [
    "len(charge_pred)"
   ]
  },
  {
   "cell_type": "code",
   "execution_count": 25,
   "metadata": {},
   "outputs": [
    {
     "data": {
      "text/plain": [
       "0.021577841276309885"
      ]
     },
     "execution_count": 25,
     "metadata": {},
     "output_type": "execute_result"
    }
   ],
   "source": [
    "mean_absolute_error(y_test['Charge_Capacity(Ah)'],charge_pred)"
   ]
  },
  {
   "cell_type": "code",
   "execution_count": 26,
   "metadata": {},
   "outputs": [
    {
     "data": {
      "text/plain": [
       "2.2133261735377516"
      ]
     },
     "execution_count": 26,
     "metadata": {},
     "output_type": "execute_result"
    }
   ],
   "source": [
    "y_test['Charge_Capacity(Ah)'].mean()"
   ]
  },
  {
   "cell_type": "code",
   "execution_count": 27,
   "metadata": {},
   "outputs": [
    {
     "data": {
      "text/plain": [
       "0.02320303002332188"
      ]
     },
     "execution_count": 27,
     "metadata": {},
     "output_type": "execute_result"
    }
   ],
   "source": [
    "mean_absolute_error(y_test['Discharge_Capacity(Ah)'],discharge_pred)"
   ]
  },
  {
   "cell_type": "code",
   "execution_count": 28,
   "metadata": {},
   "outputs": [
    {
     "data": {
      "text/plain": [
       "1.690059705851323"
      ]
     },
     "execution_count": 28,
     "metadata": {},
     "output_type": "execute_result"
    }
   ],
   "source": [
    "y_test['Discharge_Capacity(Ah)'].mean()"
   ]
  },
  {
   "cell_type": "code",
   "execution_count": 29,
   "metadata": {},
   "outputs": [
    {
     "data": {
      "text/plain": [
       "array([[2.001506  , 1.2067491 ],\n",
       "       [2.4455886 , 2.4229558 ],\n",
       "       [1.1762943 , 0.7968415 ],\n",
       "       ...,\n",
       "       [1.0622382 , 0.08889797],\n",
       "       [1.0404198 , 0.359266  ],\n",
       "       [2.4751332 , 2.478191  ]], dtype=float32)"
      ]
     },
     "execution_count": 29,
     "metadata": {},
     "output_type": "execute_result"
    }
   ],
   "source": [
    "predictions"
   ]
  },
  {
   "cell_type": "code",
   "execution_count": 30,
   "metadata": {},
   "outputs": [
    {
     "data": {
      "text/plain": [
       "Text(0, 0.5, 'predicted')"
      ]
     },
     "execution_count": 30,
     "metadata": {},
     "output_type": "execute_result"
    },
    {
     "data": {
      "image/png": "[encoded data removed]",
      "text/plain": [
       "<Figure size 432x288 with 1 Axes>"
      ]
     },
     "metadata": {
      "needs_background": "light"
     },
     "output_type": "display_data"
    }
   ],
   "source": [
    "plt.scatter(y_test['Charge_Capacity(Ah)'],[predictions[i][0] for i in range(len(predictions))],s=0.1)\n",
    "plt.plot(y_test['Charge_Capacity(Ah)'],y_test['Charge_Capacity(Ah)'],'r')\n",
    "plt.title('Charge_capacity')\n",
    "plt.xlabel('original')\n",
    "plt.ylabel('predicted')"
   ]
  },
  {
   "cell_type": "code",
   "execution_count": 31,
   "metadata": {},
   "outputs": [
    {
     "data": {
      "text/plain": [
       "Text(0, 0.5, 'predicted')"
      ]
     },
     "execution_count": 31,
     "metadata": {},
     "output_type": "execute_result"
    },
    {
     "data": {
      "image/png": "[encoded data removed]",
      "text/plain": [
       "<Figure size 432x288 with 1 Axes>"
      ]
     },
     "metadata": {
      "needs_background": "light"
     },
     "output_type": "display_data"
    }
   ],
   "source": [
    "plt.scatter(y_test['Discharge_Capacity(Ah)'],[predictions[i][1] for i in range(len(predictions))],s=0.01)\n",
    "plt.plot(y_test['Discharge_Capacity(Ah)'],y_test['Discharge_Capacity(Ah)'],'r')\n",
    "plt.title('Discharge_capacity')\n",
    "plt.xlabel('original')\n",
    "plt.ylabel('predicted')"
   ]
  },
  {
   "cell_type": "code",
   "execution_count": 32,
   "metadata": {},
   "outputs": [
    {
     "name": "stdout",
     "output_type": "stream",
     "text": [
      "MAE: 0.02239043564981582\n",
      "MSE: 0.0009162049800562483\n",
      "RMSE: 0.03026887807726359\n"
     ]
    }
   ],
   "source": [
    "from sklearn import metrics\n",
    "\n",
    "print('MAE:', metrics.mean_absolute_error(y_test, predictions))\n",
    "print('MSE:', metrics.mean_squared_error(y_test, predictions))\n",
    "print('RMSE:', np.sqrt(metrics.mean_squared_error(y_test, predictions)))"
   ]
  },
  {
   "cell_type": "code",
   "execution_count": 33,
   "metadata": {},
   "outputs": [
    {
     "name": "stdout",
     "output_type": "stream",
     "text": [
      "MAE: 0.021577841276309885\n",
      "MSE: 0.0008597224259490625\n",
      "RMSE: 0.029321023617006663\n"
     ]
    }
   ],
   "source": [
    "from sklearn import metrics\n",
    "\n",
    "print('MAE:', metrics.mean_absolute_error(y_test['Charge_Capacity(Ah)'],charge_pred ))\n",
    "print('MSE:', metrics.mean_squared_error(y_test['Charge_Capacity(Ah)'],charge_pred ))\n",
    "print('RMSE:', np.sqrt(metrics.mean_squared_error(y_test['Charge_Capacity(Ah)'],charge_pred )))"
   ]
  },
  {
   "cell_type": "code",
   "execution_count": 34,
   "metadata": {},
   "outputs": [
    {
     "name": "stdout",
     "output_type": "stream",
     "text": [
      "MAE: 0.02320303002332188\n",
      "MSE: 0.0009726875341634326\n",
      "RMSE: 0.031187938921375242\n"
     ]
    }
   ],
   "source": [
    "from sklearn import metrics\n",
    "\n",
    "print('MAE:', metrics.mean_absolute_error(y_test['Discharge_Capacity(Ah)'],discharge_pred ))\n",
    "print('MSE:', metrics.mean_squared_error(y_test['Discharge_Capacity(Ah)'],discharge_pred ))\n",
    "print('RMSE:', np.sqrt(metrics.mean_squared_error(y_test['Discharge_Capacity(Ah)'],discharge_pred )))"
   ]
  },
  {
   "cell_type": "code",
   "execution_count": 36,
   "metadata": {},
   "outputs": [
    {
     "data": {
      "text/plain": [
       "3.804486188995766"
      ]
     },
     "execution_count": 36,
     "metadata": {},
     "output_type": "execute_result"
    }
   ],
   "source": [
    "y_test['Charge_Capacity(Ah)'].max()"
   ]
  },
  {
   "cell_type": "code",
   "execution_count": 37,
   "metadata": {},
   "outputs": [
    {
     "data": {
      "text/plain": [
       "3.822614206915959"
      ]
     },
     "execution_count": 37,
     "metadata": {},
     "output_type": "execute_result"
    }
   ],
   "source": [
    "y_test['Discharge_Capacity(Ah)'].max()"
   ]
  },
  {
   "cell_type": "code",
   "execution_count": 38,
   "metadata": {},
   "outputs": [],
   "source": [
    "model.save('battery_final_model.h5')"
   ]
  },
  {
   "cell_type": "code",
   "execution_count": 69,
   "metadata": {},
   "outputs": [],
   "source": [
    "from tensorflow import keras\n",
    "loaded_model = keras.models.load_model('battery_final_model.h5')"
   ]
  },
  {
   "cell_type": "code",
   "execution_count": 87,
   "metadata": {},
   "outputs": [
    {
     "data": {
      "text/plain": [
       "array([[0.02400105, 0.3914426 ],\n",
       "       [1.0202632 , 1.0157187 ],\n",
       "       [0.49513802, 1.0678873 ],\n",
       "       ...,\n",
       "       [0.05342009, 1.0643711 ],\n",
       "       [0.5144369 , 1.095953  ],\n",
       "       [0.5566362 , 0.7616745 ]], dtype=float32)"
      ]
     },
     "execution_count": 87,
     "metadata": {},
     "output_type": "execute_result"
    }
   ],
   "source": [
    "loaded_model.predict(X_test)"
   ]
  },
  {
   "cell_type": "code",
   "execution_count": null,
   "metadata": {},
   "outputs": [],
   "source": []
  }
 ],
 "metadata": {
  "kernelspec": {
   "display_name": "Python 3",
   "language": "python",
   "name": "python3"
  },
  "language_info": {
   "codemirror_mode": {
    "name": "ipython",
    "version": 3
   },
   "file_extension": ".py",
   "mimetype": "text/x-python",
   "name": "python",
   "nbconvert_exporter": "python",
   "pygments_lexer": "ipython3",
   "version": "3.6.10"
  }
 },
 "nbformat": 4,
 "nbformat_minor": 1
}
